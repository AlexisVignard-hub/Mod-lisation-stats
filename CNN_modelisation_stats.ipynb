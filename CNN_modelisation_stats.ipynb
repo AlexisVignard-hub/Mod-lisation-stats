{
 "cells": [
  {
   "cell_type": "markdown",
   "metadata": {
    "id": "AyoSlVwcVjJZ"
   },
   "source": [
    "# Convolutional Neural Network (CNN) : Reconnaissance d'avions"
   ]
  },
  {
   "cell_type": "markdown",
   "metadata": {
    "id": "NIrcn0FIVjJb"
   },
   "source": [
    "Dans ce Notebook, nous utilisons Keras pour implémenter un réseau de neurone convolutif (CNN) sur un jeu de données composé de nombreuses images de différentes tailles provenant de 5 classes différentes.\n",
    "Les données ont été récupérées sur kaggle, sur différentes sources, et nous les avons compilées entre-elles.\n",
    "Nous nous concentrons sur la reconnaissance de forme afin de pouvoir détecter des avions."
   ]
  },
  {
   "cell_type": "code",
   "execution_count": 5,
   "metadata": {
    "id": "1fa2CfJxVjJc"
   },
   "outputs": [],
   "source": [
    "import numpy as np\n",
    "import os\n",
    "from PIL import Image, ImageFilter\n",
    "\n",
    "categories=[\"avion\",\"ferry\",\"chat\",\"rose\",\"voitures\"]\n",
    "\n",
    "new_im_size = 128\n",
    "channels = 3\n",
    "\n",
    "\n",
    "\n",
    "train_data_dir = \"data_seminaire\""
   ]
  },
  {
   "cell_type": "markdown",
   "metadata": {
    "id": "6XhTyNeRVjJd"
   },
   "source": [
    "# 1. Préparation du Dataset\n",
    "La première chose à faire lorsque l'on traite un nouvel ensemble de données est d'effectuer des opérations de prétraitement. Le prétraitement des données fait généralement référence aux étapes appliquées pour rendre les données plus adaptées à l'apprentissage. Dans cette section, nous allons traiter les points suivants :\n",
    "* 1.1 Chargement des données\n",
    "* 1.2 Normalization\n",
    "* 1.3 Standardization\n",
    "* 1.4 Split des données et one hot encoding\n"
   ]
  },
  {
   "cell_type": "markdown",
   "metadata": {
    "id": "deYLU6wQVjJd"
   },
   "source": [
    "## 1.1 Chargement des données\n",
    "Dans cette section, nous chargeons le jeu de données généré dans la section précédente."
   ]
  },
  {
   "cell_type": "code",
   "execution_count": 6,
   "metadata": {
    "id": "08lokc-cVjJd"
   },
   "outputs": [],
   "source": [
    "# Chargement du dataset\n",
    "def load_dataset(data_dir_path):\n",
    "\tX = []\n",
    "\tY = []\n",
    "\tfor i in categories :\n",
    "\n",
    "\n",
    "\t\timport glob\n",
    "\t\tonly_jpg = glob.glob(data_dir_path + \"/\" + i + \"/*.jpg\")\t\t\t\t# Récupération des images jpg\n",
    "\t\tonly_images = only_jpg\t\t\t\t\t\t\t\t\t\t\t# Merge des images\n",
    "\t\tfor file_name in only_images:\t\t\t\t\t\t\t\t\t\t\t\t\n",
    "\t\t\timage = Image.open(file_name).convert('RGB')\n",
    "\t\t\timage = image.resize((new_im_size, new_im_size))\t\t\t\t\t\t# Resize des images\n",
    "\t\t\tX.append(np.array(image, dtype=np.float32))\n",
    "\t\t\tY.append(i)\n",
    "\treturn X, Y"
   ]
  },
  {
   "cell_type": "code",
   "execution_count": 7,
   "metadata": {
    "colab": {
     "base_uri": "https://localhost:8080/"
    },
    "id": "XBwwEcpMVjJd",
    "outputId": "9e44582e-30a8-41ce-e09b-83314301ec2d"
   },
   "outputs": [],
   "source": [
    "train_X, train_Y = load_dataset(train_data_dir)\t\t\t\t\t\t\t\t\t\t\t# training set"
   ]
  },
  {
   "cell_type": "code",
   "execution_count": 8,
   "metadata": {
    "colab": {
     "base_uri": "https://localhost:8080/"
    },
    "id": "XBwwEcpMVjJd",
    "outputId": "9e44582e-30a8-41ce-e09b-83314301ec2d"
   },
   "outputs": [
    {
     "name": "stdout",
     "output_type": "stream",
     "text": [
      "Splitting training set to create test set..\n"
     ]
    }
   ],
   "source": [
    "#test set\n",
    "from sklearn.model_selection import train_test_split\n",
    "train_X, test_X, train_Y, test_Y = train_test_split(train_X, train_Y, test_size=0.1, random_state=13)"
   ]
  },
  {
   "cell_type": "markdown",
   "metadata": {
    "id": "sV_vaxfQVjJe"
   },
   "source": [
    "## 1.2 Standardization\n",
    "\n",
    "Une pratique courante dans le prétraitement des données est la standardization.\n",
    "L'idée de la standardization est de calculer la moyenne et l'écart-type de votre ensemble de données afin de soustraire de chaque point $x$, sa moyenne $\\mu$ de l'ensemble de données, puis de diviser par l'écart-type $\\sigma$ .\n",
    "Il s'agit d'appliquer l'opération suivante :\n",
    "\n",
    "\n",
    "<img src=\"https://drive.google.com/uc?id=1rpuybw_fmI8XK38JQhWWxX2TOExBAV2V\" width=\"150px\"><br>\n",
    "L’objectif est d'obtenir une distribution avec une moyenne égale à 0 et un écart-type égal à 1.\n",
    "En appliquant la normalisation à nos données, nous rendons les caractéristiques plus similaires les unes aux autres, ce qui facilite généralement le processus d'apprentissage.\n",
    "Pour mieux comprendre cela, nous pouvons montrer un exemple de ce qui se passe après l'application d'un processus de normalisation à un ensemble de données :\n",
    "\n",
    "<img src=\"https://drive.google.com/uc?id=1wtqTW4hz8n8k7b7q0mUSzCc9X0npNUY2\" width=\"500px\" align=\"left\"><br>"
   ]
  },
  {
   "cell_type": "code",
   "execution_count": 9,
   "metadata": {
    "id": "kWyx1B9hVjJf"
   },
   "outputs": [],
   "source": [
    "# Standardisation des données\n",
    "def standardize_dataset(X):\n",
    "\timage_means = []\n",
    "\timage_stds = []\n",
    "\n",
    "\tfor image in X:\n",
    "\t\timage_means.append(np.mean(image))\t\t\t\t\t\t\t\t\t\t\t# Calcul de la moyenne des images\n",
    "\t\timage_stds.append(np.std(image))\t\t\t\t\t\t\t\t\t\t\t# Calcul de leur écart type\n",
    "\n",
    "\tdataset_mean = np.mean(image_means)\t\t\t\t\t\t\t\t\t\t\t\t# Calcul de la moyenne du dataset\n",
    "\tdataset_std = np.mean(image_stds)\t\t\t\t\t\t\t\t\t\t\t\t# Calcul de l'écart type du dataset\n",
    "\treturn dataset_mean, dataset_std\t\t\t\t\t"
   ]
  },
  {
   "cell_type": "code",
   "execution_count": 10,
   "metadata": {
    "colab": {
     "base_uri": "https://localhost:8080/"
    },
    "id": "0295n1kOVjJf",
    "outputId": "81074c29-e8ce-4663-bd95-9f9069dbcbb5"
   },
   "outputs": [],
   "source": [
    "dataset_mean, dataset_std = standardize_dataset(train_X)\n",
    "train_X = (train_X-dataset_mean)/dataset_std\t\t\t\t\t\t\t\t\t\t\t\t# Standardization du training set\n",
    "test_X = (test_X-dataset_mean)/dataset_std\t\t\t\t\t\t\t\t\t\t\t\t# Standardization du test set"
   ]
  },
  {
   "cell_type": "markdown",
   "metadata": {
    "id": "uF-q_fPSVjJe"
   },
   "source": [
    "## 1.3 Normalization\n",
    "Une autre pratique courante dans la formation d'un réseau neuronal consiste à normaliser les images en divisant la valeur de chaque pixel par la valeur maximale possible, c'est-à-dire 255.\n",
    "L'objectif est d'obtenir une moyenne proche de 0.\n",
    "La normalisation des données accélère généralement l'apprentissage et conduit à une convergence plus rapide."
   ]
  },
  {
   "cell_type": "code",
   "execution_count": 11,
   "metadata": {
    "colab": {
     "base_uri": "https://localhost:8080/"
    },
    "id": "5R_RZfJdVjJe",
    "outputId": "e956d6fe-2a10-4ef1-90cd-bda1969de703"
   },
   "outputs": [],
   "source": [
    "# Normalizing the data\n",
    "train_X = np.asarray(train_X, dtype=np.float32) / 255\t\t\t\t\t\t\t\t\t\t# Normalization du training set\n",
    "test_X = np.asarray(test_X, dtype=np.float32) / 255\t\t\t\t\t\t\t\t\t\t\t# Normalization du test set"
   ]
  },
  {
   "cell_type": "markdown",
   "metadata": {
    "id": "eGmDHeU-VjJf"
   },
   "source": [
    "## 1.4 Split des données et one hot encoding\n",
    "Il ne nous reste plus qu'à diviser notre ensemble d'apprentissage en deux pour obtenir l'ensemble de validation, ainsi que one-hot encoder nos labels."
   ]
  },
  {
   "cell_type": "code",
   "execution_count": 12,
   "metadata": {
    "colab": {
     "base_uri": "https://localhost:8080/"
    },
    "id": "0NWyc94bVjJg",
    "outputId": "2e0b0426-afe4-4e8d-fccd-9e8a2384bf4d"
   },
   "outputs": [],
   "source": [
    "# Creating the validation set\n",
    "from sklearn.model_selection import train_test_split\n",
    "train_X, valid_X, train_Y, valid_Y = train_test_split(train_X, train_Y, test_size=0.2, random_state=13)"
   ]
  },
  {
   "cell_type": "code",
   "execution_count": 13,
   "metadata": {
    "colab": {
     "base_uri": "https://localhost:8080/"
    },
    "id": "0NWyc94bVjJg",
    "outputId": "2e0b0426-afe4-4e8d-fccd-9e8a2384bf4d"
   },
   "outputs": [],
   "source": [
    "#on catégorise les variables labels en integers pour que le one hot d'après marche\n",
    "from sklearn.preprocessing import LabelEncoder\n",
    "\n",
    "label_encoder = LabelEncoder()\n",
    "train_Y = label_encoder.fit_transform(train_Y)\n",
    "valid_Y = label_encoder.fit_transform(valid_Y)\n",
    "test_Y = label_encoder.fit_transform(test_Y)"
   ]
  },
  {
   "cell_type": "code",
   "execution_count": 14,
   "metadata": {
    "colab": {
     "base_uri": "https://localhost:8080/"
    },
    "id": "0NWyc94bVjJg",
    "outputId": "2e0b0426-afe4-4e8d-fccd-9e8a2384bf4d"
   },
   "outputs": [],
   "source": [
    "# Converting labels to one-hot representation\n",
    "from keras.utils.np_utils import to_categorical\n",
    "train_Y_one_hot = to_categorical(train_Y)\t\t\t\t\t\t# Conversion des train, test, et valid en one hot encoding\n",
    "valid_Y_one_hot = to_categorical(valid_Y)\n",
    "test_Y_one_hot = to_categorical(test_Y)"
   ]
  },
  {
   "cell_type": "markdown",
   "metadata": {
    "id": "CV88dGe_VjJg"
   },
   "source": [
    "# 2. Entraînement du modèle\n",
    "Maintenant que nous avons correctement prétraité nos données, nous allons créer un modèle convolutif dans Keras. Comme précisé dans le rapport, un modèle convolutif est composé de deux parties successives :\n",
    "* Une partie convolutive\n",
    "* Une partie entièrement connectée, \"fully connected\"\n",
    "\n",
    "<img src=\"https://drive.google.com/uc?id=1duP8u9bs6ELNu4degUuYP4-YS1mBYn2O\" width=\"600px\"><br>\n",
    "\n",
    "Habituellement, la partie convolutive est constituée de plusieurs couches composées de\n",
    "* couche convolutionnelle : effectue une convolution spatiale sur les images\n",
    "* couche de pooling : utilisée pour réduire la dimension spatiale de sortie de $n$ à 1 en faisant la moyenne des $n$ valeurs différentes ou en considérant le maximum entre elles\n",
    "* couche dropout : appliquée à une couche, consiste à \"abandonner\" de manière aléatoire (c'est-à-dire à mettre à zéro) un certain nombre de caractéristiques de sortie de la couche pendant l'apprentissage.\n",
    "\n",
    "La partie convolutive produit sa sortie et la partie entièrement connectée relie les informations reçues afin de résoudre le problème de classification."
   ]
  },
  {
   "cell_type": "code",
   "execution_count": 15,
   "metadata": {
    "colab": {
     "base_uri": "https://localhost:8080/"
    },
    "id": "EXSooP4bVjJg",
    "outputId": "b666b258-2d44-4370-920c-c9ebe9f7e427"
   },
   "outputs": [
    {
     "name": "stdout",
     "output_type": "stream",
     "text": [
      "Model: \"sequential\"\n",
      "_________________________________________________________________\n",
      "Layer (type)                 Output Shape              Param #   \n",
      "=================================================================\n",
      "conv2d (Conv2D)              (None, 126, 126, 5)       140       \n",
      "_________________________________________________________________\n",
      "dropout (Dropout)            (None, 126, 126, 5)       0         \n",
      "_________________________________________________________________\n",
      "max_pooling2d (MaxPooling2D) (None, 63, 63, 5)         0         \n",
      "_________________________________________________________________\n",
      "conv2d_1 (Conv2D)            (None, 61, 61, 4)         184       \n",
      "_________________________________________________________________\n",
      "dropout_1 (Dropout)          (None, 61, 61, 4)         0         \n",
      "_________________________________________________________________\n",
      "max_pooling2d_1 (MaxPooling2 (None, 30, 30, 4)         0         \n",
      "_________________________________________________________________\n",
      "flatten (Flatten)            (None, 3600)              0         \n",
      "_________________________________________________________________\n",
      "dense (Dense)                (None, 5)                 18005     \n",
      "=================================================================\n",
      "Total params: 18,329\n",
      "Trainable params: 18,329\n",
      "Non-trainable params: 0\n",
      "_________________________________________________________________\n"
     ]
    }
   ],
   "source": [
    "# Creation du modèle\n",
    "import keras\n",
    "from keras.models import Sequential,Input,Model\n",
    "from keras.layers import Dense, Dropout, Flatten\n",
    "from keras.layers import Conv2D, MaxPooling2D\n",
    "from keras.layers.normalization import BatchNormalization\n",
    "from keras.layers.advanced_activations import LeakyReLU\n",
    "from sklearn.metrics import accuracy_score\n",
    "\n",
    "# Network parameters\n",
    "batch_size = 16\t\t\t\t\t\t\t\t\t\t\t\t\t# Réglage du batch size\n",
    "epochs = 10\t\t\t\t\t\t\t\t\t\t\t\t\t\t# du nombre d'epoch\n",
    "num_classes = len(categories)\t\t\t\t\t\t\t\t\t# du nombre de classes\n",
    "\n",
    "scratch_model = Sequential()\t\n",
    "\n",
    "# Création du réseau de neurone avec Keras\n",
    "\n",
    "conv_layer1 = Conv2D(5,3,activation='relu', input_shape=train_X.shape[1:])\n",
    "scratch_model.add(conv_layer1)\n",
    "pool_layer2=MaxPooling2D(pool_size=(2, 2))\n",
    "scratch_model.add(Dropout(0.2))\n",
    "scratch_model.add(pool_layer2)\n",
    "conv_layer3 = Conv2D(4,3,activation='relu')\n",
    "scratch_model.add(conv_layer3)\n",
    "pool_layer4=MaxPooling2D(pool_size=(2, 2))\n",
    "scratch_model.add(Dropout(0.2))\n",
    "scratch_model.add(pool_layer4)\n",
    "scratch_model.add(Flatten())\n",
    "scratch_model.add(Dense(num_classes, activation='sigmoid'))\n",
    "\n",
    "\n",
    "\n",
    "\n",
    "\n",
    "# Compilation du modèle avec l'Adam optimizer\n",
    "scratch_model.compile(loss=keras.losses.categorical_crossentropy, optimizer=\"Adam\",metrics=['accuracy'])\n",
    "\n",
    "# Visualisation du mmodèle avec summary\n",
    "scratch_model.summary()"
   ]
  },
  {
   "cell_type": "code",
   "execution_count": 16,
   "metadata": {
    "colab": {
     "base_uri": "https://localhost:8080/"
    },
    "id": "XFvLiE5dVjJh",
    "outputId": "4f375185-91b3-4a59-d0dc-e85b4956682b"
   },
   "outputs": [
    {
     "name": "stdout",
     "output_type": "stream",
     "text": [
      "Epoch 1/10\n",
      "112/112 [==============================] - 18s 45ms/step - loss: 1.4083 - accuracy: 0.4036 - val_loss: 1.2419 - val_accuracy: 0.4719\n",
      "Epoch 2/10\n",
      "112/112 [==============================] - 5s 42ms/step - loss: 1.0256 - accuracy: 0.6058 - val_loss: 0.9514 - val_accuracy: 0.7034\n",
      "Epoch 3/10\n",
      "112/112 [==============================] - 5s 42ms/step - loss: 0.8825 - accuracy: 0.6918 - val_loss: 0.8716 - val_accuracy: 0.6966\n",
      "Epoch 4/10\n",
      "112/112 [==============================] - 5s 43ms/step - loss: 0.7708 - accuracy: 0.7348 - val_loss: 0.8280 - val_accuracy: 0.7124\n",
      "Epoch 5/10\n",
      "112/112 [==============================] - 5s 42ms/step - loss: 0.7069 - accuracy: 0.7462 - val_loss: 0.7576 - val_accuracy: 0.7685\n",
      "Epoch 6/10\n",
      "112/112 [==============================] - 5s 44ms/step - loss: 0.6220 - accuracy: 0.7733 - val_loss: 0.7656 - val_accuracy: 0.7596\n",
      "Epoch 7/10\n",
      "112/112 [==============================] - 5s 43ms/step - loss: 0.6481 - accuracy: 0.7851 - val_loss: 0.7465 - val_accuracy: 0.7461\n",
      "Epoch 8/10\n",
      "112/112 [==============================] - 5s 42ms/step - loss: 0.6128 - accuracy: 0.7814 - val_loss: 0.7176 - val_accuracy: 0.7708\n",
      "Epoch 9/10\n",
      "112/112 [==============================] - 5s 42ms/step - loss: 0.5848 - accuracy: 0.8103 - val_loss: 0.7191 - val_accuracy: 0.7708\n",
      "Epoch 10/10\n",
      "112/112 [==============================] - 5s 42ms/step - loss: 0.5540 - accuracy: 0.8175 - val_loss: 0.7205 - val_accuracy: 0.7663\n"
     ]
    }
   ],
   "source": [
    "# Entrainement du modèle\n",
    "scratch_model_history = scratch_model.fit(train_X, train_Y_one_hot, batch_size=batch_size, shuffle=True, epochs=epochs, validation_data=(valid_X, valid_Y_one_hot))"
   ]
  },
  {
   "cell_type": "code",
   "execution_count": 17,
   "metadata": {
    "colab": {
     "base_uri": "https://localhost:8080/"
    },
    "id": "KoZV8QifVjJh",
    "outputId": "ded1f32f-efbb-434c-fab4-caff3a44bd32"
   },
   "outputs": [
    {
     "name": "stdout",
     "output_type": "stream",
     "text": [
      "Test accuracy:  0.8185483870967742\n"
     ]
    }
   ],
   "source": [
    "# Résultats\n",
    "scratch_model_train_acc = scratch_model_history.history['accuracy']\n",
    "scratch_model_valid_acc = scratch_model_history.history['val_accuracy']\n",
    "scratch_model_train_loss = scratch_model_history.history['loss']\n",
    "scratch_model_valid_loss = scratch_model_history.history['val_loss']\n",
    "\n",
    "print(\"Test accuracy: \", accuracy_score(np.argmax(scratch_model.predict(test_X), axis=-1), test_Y))\t\t\t# Testing the model"
   ]
  },
  {
   "cell_type": "markdown",
   "metadata": {
    "id": "gNxo420EXV18"
   },
   "source": [
    "Les résultats obtenus sont très satisfaisants. Cela montre à quel point les architectures CNN sont puissantes en reconnaissance d’images. Ce score est également dû à la facilité de notre problème : les images sont facilement différenciables. Comme évoqué précédemment, lorsque nous essayons de différencier les avions entre-eux nous n’obtenions pas du tout ce genre de résultats."
   ]
  },
  {
   "cell_type": "markdown",
   "metadata": {
    "id": "4d5P7EIXZcPp"
   },
   "source": [
    "Comme prévu, lorsque nous augmentons la batch size, le temps d’entraînement du modèle est plus rapide, parce que nous faisons \"moins d'étapes\" de calcul. Néanmoins, ce procédé a un coût au niveau de la précision du modèle (nous avons besoin de plus de temps pour l’entraîner). Cela est dû au fait que nous devons continuer à entraîner le modèle, il est alors nécessaire d’augmenter le nombre d’epochs pour obtenir de bonnes performances. Le modèle avec une batch size plus grande converge vers la même performance (avec un nombre approprié d‘epoch). En fait, avec une petite batch size, le modèle apprend de maière plus rapide sans nécessiter plus d’epoch."
   ]
  },
  {
   "cell_type": "markdown",
   "metadata": {
    "id": "6vTxXtoiVjJk"
   },
   "source": [
    "# 3. Utilisation d'un modèle pré-entraîné\n",
    "\n",
    "Une alternative courante à la formation d'un modèle à partir de zéro consiste à utiliser un modèle pré-entraîné.\n",
    "L'idée est de remplacer la partie convolutive par une partie convolutive hautement optimisée, conçue et entraînée précédemment par quelqu'un d'autre.\n",
    "Habituellement, les modèles que nous pouvons utiliser via keras.applications ont été entraînés sur le jeu de données image net.\n",
    "Ici, nous utilisons le modèle Xception Net. Son architecture est présentée ci-dessous :\n",
    "\n",
    "<img src=\"https://drive.google.com/uc?id=1eKivBCSKnWKyBxmGe5s64oOyhzhuCaqU\" width=\"600px\"><br>"
   ]
  },
  {
   "cell_type": "markdown",
   "metadata": {
    "id": "rl4-dljJejXV"
   },
   "source": [
    "Un modèle pré-entraîné peut être un outil très utile. En fait, il s'agit d'un modèle qui a été entraîné sur un très grand jeu de données, avec des ressources très puissantes et qui a de très bonnes performances. Il est composé d'une première partie \"convolutionnelle\", très efficace pour détecter les motifs de base, et d'une deuxième partie, qui classifie l'objet. Cette deuxième partie est spécifique au problème traité, nous nous intéresserons donc qu'à la première."
   ]
  },
  {
   "cell_type": "code",
   "execution_count": 20,
   "metadata": {
    "colab": {
     "base_uri": "https://localhost:8080/"
    },
    "id": "JDEXDdJMVjJk",
    "outputId": "ef02790f-501e-4d4b-ad88-7e052635dba4"
   },
   "outputs": [
    {
     "name": "stderr",
     "output_type": "stream",
     "text": [
      "/Users/pierrepersonnat/opt/anaconda3/lib/python3.8/site-packages/tensorflow/python/keras/optimizer_v2/optimizer_v2.py:374: UserWarning: The `lr` argument is deprecated, use `learning_rate` instead.\n",
      "  warnings.warn(\n"
     ]
    }
   ],
   "source": [
    "# Création du modèle basé sur le modèle pré-entraîné Xception\n",
    "from tensorflow.keras import applications\n",
    "Xception_model = applications.Xception(weights = \"imagenet\", include_top=False, input_shape = (new_im_size, new_im_size, channels))\n",
    "\n",
    "# Features\n",
    "train_X_feature = Xception_model.predict(train_X)\t\t\t\t\t# Producing the train feature\n",
    "valid_X_feature = Xception_model.predict(valid_X)\t\t\t\t\t# Producing the test feature\n",
    "\n",
    "\n",
    "from tensorflow.keras import models\n",
    "from tensorflow.keras import layers\n",
    "from tensorflow.keras import optimizers\n",
    "\n",
    "# Création d'un modèle simple qui classifiera les features extraites de l'Xception\n",
    "pretrained_model = models.Sequential()\n",
    "pretrained_model.add(layers.Flatten())\n",
    "pretrained_model.add(layers.Dense(64, activation='relu'))\n",
    "pretrained_model.add(layers.Dropout(0.3))\n",
    "pretrained_model.add(layers.Dense(num_classes, activation='softmax'))\n",
    "pretrained_model.compile(optimizer=optimizers.RMSprop(lr=2e-4),loss='categorical_crossentropy',metrics=['acc'])"
   ]
  },
  {
   "cell_type": "code",
   "execution_count": 21,
   "metadata": {
    "colab": {
     "base_uri": "https://localhost:8080/"
    },
    "id": "b2SR16fyVjJk",
    "outputId": "8a3ffcaf-882a-4841-f027-dfde0ba18d10"
   },
   "outputs": [
    {
     "name": "stdout",
     "output_type": "stream",
     "text": [
      "Model: \"sequential\"\n",
      "_________________________________________________________________\n",
      "Layer (type)                 Output Shape              Param #   \n",
      "=================================================================\n",
      "flatten (Flatten)            (1780, 32768)             0         \n",
      "_________________________________________________________________\n",
      "dense (Dense)                (1780, 64)                2097216   \n",
      "_________________________________________________________________\n",
      "dropout (Dropout)            (1780, 64)                0         \n",
      "_________________________________________________________________\n",
      "dense_1 (Dense)              (1780, 5)                 325       \n",
      "=================================================================\n",
      "Total params: 2,097,541\n",
      "Trainable params: 2,097,541\n",
      "Non-trainable params: 0\n",
      "_________________________________________________________________\n"
     ]
    }
   ],
   "source": [
    "# Summary du modèle\n",
    "pretrained_model.build(input_shape=train_X_feature.shape)\n",
    "pretrained_model.summary()"
   ]
  },
  {
   "cell_type": "code",
   "execution_count": 22,
   "metadata": {
    "colab": {
     "base_uri": "https://localhost:8080/"
    },
    "id": "eAeeI4iiVjJl",
    "outputId": "00001488-ce5b-4099-e0b4-5d6b47ac772f"
   },
   "outputs": [
    {
     "name": "stdout",
     "output_type": "stream",
     "text": [
      "Epoch 1/10\n",
      "112/112 [==============================] - 2s 12ms/step - loss: 1.0709 - acc: 0.6326 - val_loss: 0.9218 - val_acc: 0.6180\n",
      "Epoch 2/10\n",
      "112/112 [==============================] - 1s 11ms/step - loss: 0.8173 - acc: 0.7213 - val_loss: 0.7796 - val_acc: 0.6787\n",
      "Epoch 3/10\n",
      "112/112 [==============================] - 1s 11ms/step - loss: 0.6949 - acc: 0.7624 - val_loss: 0.6922 - val_acc: 0.7730\n",
      "Epoch 4/10\n",
      "112/112 [==============================] - 1s 11ms/step - loss: 0.6206 - acc: 0.7871 - val_loss: 0.6465 - val_acc: 0.7888\n",
      "Epoch 5/10\n",
      "112/112 [==============================] - 1s 11ms/step - loss: 0.5772 - acc: 0.7966 - val_loss: 0.6684 - val_acc: 0.7393\n",
      "Epoch 6/10\n",
      "112/112 [==============================] - 1s 11ms/step - loss: 0.5390 - acc: 0.8163 - val_loss: 0.6150 - val_acc: 0.7775\n",
      "Epoch 7/10\n",
      "112/112 [==============================] - 1s 11ms/step - loss: 0.5163 - acc: 0.8275 - val_loss: 0.5903 - val_acc: 0.7910\n",
      "Epoch 8/10\n",
      "112/112 [==============================] - 1s 11ms/step - loss: 0.4835 - acc: 0.8348 - val_loss: 0.5721 - val_acc: 0.7910\n",
      "Epoch 9/10\n",
      "112/112 [==============================] - 1s 11ms/step - loss: 0.4680 - acc: 0.8371 - val_loss: 0.5986 - val_acc: 0.7843\n",
      "Epoch 10/10\n",
      "112/112 [==============================] - 1s 11ms/step - loss: 0.4589 - acc: 0.8376 - val_loss: 0.5700 - val_acc: 0.7955\n"
     ]
    }
   ],
   "source": [
    "# Entrainement\n",
    "pretrained_model_history = pretrained_model.fit(train_X_feature, train_Y_one_hot, epochs=epochs, batch_size=batch_size, validation_data=(valid_X_feature, valid_Y_one_hot))"
   ]
  },
  {
   "cell_type": "code",
   "execution_count": 23,
   "metadata": {
    "colab": {
     "base_uri": "https://localhost:8080/"
    },
    "id": "prOfnnUrVjJl",
    "outputId": "66b30483-a472-4645-e5f9-16711bb6a859"
   },
   "outputs": [
    {
     "name": "stdout",
     "output_type": "stream",
     "text": [
      "Test accuracy:  0.8266129032258065\n"
     ]
    }
   ],
   "source": [
    "# Résultats\n",
    "pretrained_model_train_acc = pretrained_model_history.history['acc']\n",
    "pretrained_model_valid_acc = pretrained_model_history.history['val_acc']\n",
    "pretrained_model_train_loss = pretrained_model_history.history['loss']\n",
    "pretrained_model_valid_loss = pretrained_model_history.history['val_loss']\n",
    "\n",
    "test_X_feature = Xception_model.predict(test_X)\t\t\t\t\t\t# Producing the test feature\n",
    "print(\"Test accuracy: \", accuracy_score(np.argmax(pretrained_model.predict(test_X_feature), axis=-1), test_Y))\t\t\t# Testing the model"
   ]
  },
  {
   "cell_type": "markdown",
   "metadata": {
    "id": "cjXsWgr7VjJl"
   },
   "source": [
    "# 4. Comparaison des modèles\n",
    "\n",
    "Maintenant que nous avons entraîné les modèles \"from scratch\" et \"pré-entraînés\", nous allons comparer les résultats obtenus au cours de l'entraînement. Nous allons considérer la précision et la perte."
   ]
  },
  {
   "cell_type": "code",
   "execution_count": 24,
   "metadata": {
    "colab": {
     "base_uri": "https://localhost:8080/",
     "height": 747
    },
    "id": "vUGbtQrzVjJl",
    "outputId": "677b39ac-caca-427b-854f-a98ebdf7a2c5"
   },
   "outputs": [
    {
     "data": {
      "text/plain": [
       "Text(0, 0.5, 'loss')"
      ]
     },
     "execution_count": 24,
     "metadata": {},
     "output_type": "execute_result"
    },
    {
     "data": {
      "image/png": "[encoded data removed]",
      "text/plain": [
       "<Figure size 864x864 with 4 Axes>"
      ]
     },
     "metadata": {
      "needs_background": "light"
     },
     "output_type": "display_data"
    }
   ],
   "source": [
    "# Plot pour comparer les deux modèles\n",
    "import matplotlib.pyplot as plt\n",
    "\n",
    "fig = plt.figure(figsize=(12,12))\n",
    "\n",
    "\n",
    "\n",
    "\n",
    "\n",
    "plt.subplot(2,2,1)\n",
    "\n",
    "x=range(0,epochs)\n",
    "plt.plot(x,scratch_model_train_acc,label=\"scratch model\")\n",
    "plt.plot(x,pretrained_model_train_acc,label=\"pretrained model\")\n",
    "plt.title(\"accuracy of the training\")\n",
    "plt.legend()\n",
    "plt.xlabel(\"epochs\")\n",
    "plt.ylabel(\"accuracy\")\n",
    "\n",
    "plt.subplot(2,2,2)\n",
    "\n",
    "x=range(0,epochs)\n",
    "plt.plot(x,scratch_model_valid_acc,label=\"scratch model\")\n",
    "plt.plot(x,pretrained_model_valid_acc,label=\"pretrained model\")\n",
    "plt.title(\"accuracy of the validation\")\n",
    "plt.legend()\n",
    "plt.xlabel(\"epochs\")\n",
    "plt.ylabel(\"accuracy\")\n",
    "\n",
    "\n",
    "plt.subplot(2,2,3)\n",
    "\n",
    "x=range(0,epochs)\n",
    "plt.plot(x,scratch_model_train_loss,label=\"scratch model\")\n",
    "plt.plot(x,pretrained_model_train_loss,label=\"pretrained model\")\n",
    "plt.title(\"loss of the training\")\n",
    "plt.legend()\n",
    "plt.xlabel(\"epochs\")\n",
    "plt.ylabel(\"loss\")\n",
    "\n",
    "plt.subplot(2,2,4)\n",
    "\n",
    "x=range(0,epochs)\n",
    "plt.plot(x,scratch_model_valid_loss,label=\"scratch model\")\n",
    "plt.plot(x,pretrained_model_valid_loss,label=\"pretrained model\")\n",
    "plt.title(\"loss of the validation\")\n",
    "plt.legend()\n",
    "plt.xlabel(\"epochs\")\n",
    "plt.ylabel(\"loss\")"
   ]
  }
 ],
 "metadata": {
  "accelerator": "GPU",
  "colab": {
   "collapsed_sections": [],
   "name": "CNN.ipynb",
   "provenance": []
  },
  "kernelspec": {
   "display_name": "Python 3",
   "language": "python",
   "name": "python3"
  },
  "language_info": {
   "codemirror_mode": {
    "name": "ipython",
    "version": 3
   },
   "file_extension": ".py",
   "mimetype": "text/x-python",
   "name": "python",
   "nbconvert_exporter": "python",
   "pygments_lexer": "ipython3",
   "version": "3.8.5"
  }
 },
 "nbformat": 4,
 "nbformat_minor": 4
}
